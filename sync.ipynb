{
 "cells": [
  {
   "cell_type": "code",
   "execution_count": 1,
   "metadata": {},
   "outputs": [],
   "source": [
    "%load_ext autoreload\n",
    "%autoreload 2"
   ]
  },
  {
   "cell_type": "code",
   "execution_count": 2,
   "metadata": {
    "execution": {
     "iopub.execute_input": "2020-09-28T11:35:47.535061Z",
     "iopub.status.busy": "2020-09-28T11:35:47.534762Z",
     "iopub.status.idle": "2020-09-28T11:35:47.538079Z",
     "shell.execute_reply": "2020-09-28T11:35:47.537637Z",
     "shell.execute_reply.started": "2020-09-28T11:35:47.535022Z"
    }
   },
   "outputs": [],
   "source": [
    "#export\n",
    "import os\n",
    "import sys\n",
    "import json\n",
    "import subprocess\n",
    "import importlib\n",
    "from pathlib import Path\n",
    "from functools import partial"
   ]
  },
  {
   "cell_type": "markdown",
   "metadata": {},
   "source": [
    "# Code"
   ]
  },
  {
   "cell_type": "code",
   "execution_count": 3,
   "metadata": {
    "execution": {
     "iopub.execute_input": "2020-09-28T10:57:20.060039Z",
     "iopub.status.busy": "2020-09-28T10:57:20.059766Z",
     "iopub.status.idle": "2020-09-28T10:57:20.065318Z",
     "shell.execute_reply": "2020-09-28T10:57:20.064814Z",
     "shell.execute_reply.started": "2020-09-28T10:57:20.060005Z"
    }
   },
   "outputs": [],
   "source": [
    "#export\n",
    "class SyncerBase:\n",
    "    def __init__(self, sender, reciever, kwargs): self.sender, self.reciever, self.kwargs = sender, reciever, kwargs\n",
    "    def push(self, src, dst): self.sender(**self.kwargs, src=src, dst=dst)\n",
    "    def pull(self, src, dst): self.reciever(**self.kwargs, src=src, dst=dst)\n",
    "        \n",
    "def init_custom_syncer(path):\n",
    "    import importlib.util\n",
    "    spec = importlib.util.spec_from_file_location(\"Syncer\", path)\n",
    "    foo = importlib.util.module_from_spec(spec)\n",
    "    spec.loader.exec_module(foo)\n",
    "    return foo.Syncer"
   ]
  },
  {
   "cell_type": "code",
   "execution_count": 4,
   "metadata": {},
   "outputs": [
    {
     "ename": "AssertionError",
     "evalue": "",
     "output_type": "error",
     "traceback": [
      "\u001b[0;31m---------------------------------------------------------------------------\u001b[0m",
      "\u001b[0;31mAssertionError\u001b[0m                            Traceback (most recent call last)",
      "\u001b[0;32m<ipython-input-4-5298ac139c91>\u001b[0m in \u001b[0;36m<module>\u001b[0;34m\u001b[0m\n\u001b[1;32m     44\u001b[0m \u001b[0;34m\u001b[0m\u001b[0m\n\u001b[1;32m     45\u001b[0m \u001b[0;32mif\u001b[0m \u001b[0m__name__\u001b[0m \u001b[0;34m==\u001b[0m \u001b[0;34m'__main__'\u001b[0m\u001b[0;34m:\u001b[0m\u001b[0;34m\u001b[0m\u001b[0;34m\u001b[0m\u001b[0m\n\u001b[0;32m---> 46\u001b[0;31m     \u001b[0mmain\u001b[0m\u001b[0;34m(\u001b[0m\u001b[0;34m)\u001b[0m\u001b[0;34m\u001b[0m\u001b[0;34m\u001b[0m\u001b[0m\n\u001b[0m",
      "\u001b[0;32m<ipython-input-4-5298ac139c91>\u001b[0m in \u001b[0;36mmain\u001b[0;34m()\u001b[0m\n\u001b[1;32m     20\u001b[0m     \u001b[0;32massert\u001b[0m \u001b[0mlen\u001b[0m\u001b[0;34m(\u001b[0m\u001b[0msys\u001b[0m\u001b[0;34m.\u001b[0m\u001b[0margv\u001b[0m\u001b[0;34m)\u001b[0m \u001b[0;34m>=\u001b[0m\u001b[0;36m2\u001b[0m\u001b[0;34m\u001b[0m\u001b[0;34m\u001b[0m\u001b[0m\n\u001b[1;32m     21\u001b[0m     \u001b[0maction\u001b[0m \u001b[0;34m=\u001b[0m \u001b[0msys\u001b[0m\u001b[0;34m.\u001b[0m\u001b[0margv\u001b[0m\u001b[0;34m[\u001b[0m\u001b[0;36m1\u001b[0m\u001b[0;34m]\u001b[0m\u001b[0;34m\u001b[0m\u001b[0;34m\u001b[0m\u001b[0m\n\u001b[0;32m---> 22\u001b[0;31m     \u001b[0;32massert\u001b[0m \u001b[0maction\u001b[0m \u001b[0;32min\u001b[0m \u001b[0;34m[\u001b[0m\u001b[0;34m'push'\u001b[0m\u001b[0;34m,\u001b[0m \u001b[0;34m'pull'\u001b[0m\u001b[0;34m]\u001b[0m\u001b[0;34m\u001b[0m\u001b[0;34m\u001b[0m\u001b[0m\n\u001b[0m\u001b[1;32m     23\u001b[0m     \u001b[0mfile_id\u001b[0m \u001b[0;34m=\u001b[0m \u001b[0msys\u001b[0m\u001b[0;34m.\u001b[0m\u001b[0margv\u001b[0m\u001b[0;34m[\u001b[0m\u001b[0;36m2\u001b[0m\u001b[0;34m]\u001b[0m\u001b[0;34m\u001b[0m\u001b[0;34m\u001b[0m\u001b[0m\n\u001b[1;32m     24\u001b[0m \u001b[0;34m\u001b[0m\u001b[0m\n",
      "\u001b[0;31mAssertionError\u001b[0m: "
     ]
    }
   ],
   "source": [
    "#export\n",
    "def main():\n",
    "    \"\"\"\n",
    "    Sample local config:\n",
    "        {\n",
    "            1:{ \n",
    "            \n",
    "                'syncer':'extra/syncer.py'# not neccesary\n",
    "                'local':'output/test.tar',\n",
    "                'remote':'ftp.host.com:21:files/sync/Project1/test.tar'\n",
    "               \n",
    "               },\n",
    "        }\n",
    "        1 - file_id, alias for file\n",
    "        \n",
    "    usage: \n",
    "        1. Without sycner class, using existing sftp:\n",
    "            shsync push 1 shrun.sftp\n",
    "        2. With sync class from cfg file: shsync pull 1 \n",
    "    \"\"\"\n",
    "    \n",
    "    assert len(sys.argv) >=2\n",
    "    action = sys.argv[1]\n",
    "    assert action in ['push', 'pull']\n",
    "    file_id = sys.argv[2]\n",
    "    \n",
    "    cfg_path = Path('./.shsync')\n",
    "    with open(str(cfg_path), 'r') as f:\n",
    "        cfg = json.load(f)\n",
    "    assert file_id in cfg, (file_id, cfg)\n",
    "    \n",
    "    if len(sys.argv) == 4:\n",
    "        syncer = importlib.import_module(sys.argv[3]).Syncer\n",
    "    else:\n",
    "        syncer_path = cfg[file_id]['syncer']\n",
    "        syncer = init_custom_syncer(syncer_path)\n",
    "    \n",
    "    local, remote = cfg[file_id]['local'], cfg[file_id]['remote']\n",
    "    local = str(Path().absolute() / local)\n",
    "    \n",
    "    if action == 'push':\n",
    "        print(f'\\n\\nPushing {local} to {remote}\\n\\n')\n",
    "        syncer.push(src=local, dst=remote)\n",
    "    else:\n",
    "        print(f'\\n\\nPulling {remote} to {local}\\n\\n')\n",
    "        syncer.pull(src=remote, dst=local)\n",
    "    \n",
    "    \n",
    "if __name__ == '__main__':\n",
    "    main()"
   ]
  },
  {
   "cell_type": "code",
   "execution_count": null,
   "metadata": {},
   "outputs": [],
   "source": []
  },
  {
   "cell_type": "markdown",
   "metadata": {},
   "source": [
    "# Tests"
   ]
  },
  {
   "cell_type": "code",
   "execution_count": 1,
   "metadata": {
    "execution": {
     "iopub.execute_input": "2020-09-30T10:37:47.695397Z",
     "iopub.status.busy": "2020-09-30T10:37:47.695135Z",
     "iopub.status.idle": "2020-09-30T10:37:47.699225Z",
     "shell.execute_reply": "2020-09-30T10:37:47.698770Z",
     "shell.execute_reply.started": "2020-09-30T10:37:47.695363Z"
    }
   },
   "outputs": [],
   "source": [
    "d = {\n",
    "         1:{ \n",
    "            'syncer':'extra/syncer.py',\n",
    "            'local':'output/test.tar',\n",
    "            'remote':'ftp.host.com:21:files/sync/Project1/test.tar'\n",
    "           },\n",
    "}\n",
    "with open(\"tests/.shsync\", 'w') as f:\n",
    "    json.dump(d, f, indent=4)"
   ]
  },
  {
   "cell_type": "code",
   "execution_count": null,
   "metadata": {
    "scrolled": true
   },
   "outputs": [],
   "source": [
    "!cd tests && nb_run.py pull 1"
   ]
  },
  {
   "cell_type": "code",
   "execution_count": null,
   "metadata": {},
   "outputs": [],
   "source": [
    "!cd tests && nb_run.py push 1"
   ]
  },
  {
   "cell_type": "code",
   "execution_count": null,
   "metadata": {},
   "outputs": [],
   "source": []
  },
  {
   "cell_type": "code",
   "execution_count": null,
   "metadata": {},
   "outputs": [],
   "source": []
  }
 ],
 "metadata": {
  "kernelspec": {
   "display_name": "Python 3",
   "language": "python",
   "name": "python3"
  },
  "language_info": {
   "codemirror_mode": {
    "name": "ipython",
    "version": 3
   },
   "file_extension": ".py",
   "mimetype": "text/x-python",
   "name": "python",
   "nbconvert_exporter": "python",
   "pygments_lexer": "ipython3",
   "version": "3.6.9"
  }
 },
 "nbformat": 4,
 "nbformat_minor": 4
}
