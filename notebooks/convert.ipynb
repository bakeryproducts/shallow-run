{
 "cells": [
  {
   "cell_type": "code",
   "execution_count": null,
   "metadata": {},
   "outputs": [],
   "source": [
    "#!/usr/bin/env python3\n",
    "import sys\n",
    "from pathlib import Path\n",
    "import subprocess\n",
    "\n",
    "\n",
    "def main():\n",
    "    save_path = 'src' if len(sys.argv) < 2 else sys.argv[1]\n",
    "    cfg = Path('./.shconv')\n",
    "    with open(cfg, 'r') as f:\n",
    "        files = f.read()\n",
    "    files = [f for f in files.split('\\n') if f]\n",
    "\n",
    "    #cmds = [f'echo {f} | entr shn2s {f} {save_path}' for f in files]\n",
    "    cmds = [f'echo {f} | entr python3 -m shrun.n2s {f} {save_path}' for f in files]\n",
    "    \n",
    "    print(f'Watching for {files}')\n",
    "    p = subprocess.Popen(' & '.join(cmds), shell=True)\n",
    "    p.communicate()\n",
    "    print(files)\n",
    "\n",
    "if __name__ == '__main__':\n",
    "    main()"
   ]
  },
  {
   "cell_type": "code",
   "execution_count": null,
   "metadata": {},
   "outputs": [],
   "source": [
    "# entr : https://github.com/eradman/entr/"
   ]
  },
  {
   "cell_type": "code",
   "execution_count": null,
   "metadata": {},
   "outputs": [],
   "source": []
  },
  {
   "cell_type": "code",
   "execution_count": null,
   "metadata": {},
   "outputs": [],
   "source": []
  },
  {
   "cell_type": "code",
   "execution_count": null,
   "metadata": {},
   "outputs": [],
   "source": []
  },
  {
   "cell_type": "code",
   "execution_count": null,
   "metadata": {},
   "outputs": [],
   "source": []
  },
  {
   "cell_type": "code",
   "execution_count": null,
   "metadata": {},
   "outputs": [],
   "source": []
  }
 ],
 "metadata": {
  "jupytext": {
   "formats": "notebooks//ipynb,shrun//py:percent"
  },
  "kernelspec": {
   "display_name": "Python 3",
   "language": "python",
   "name": "python3"
  },
  "language_info": {
   "codemirror_mode": {
    "name": "ipython",
    "version": 3
   },
   "file_extension": ".py",
   "mimetype": "text/x-python",
   "name": "python",
   "nbconvert_exporter": "python",
   "pygments_lexer": "ipython3",
   "version": "3.6.9"
  }
 },
 "nbformat": 4,
 "nbformat_minor": 4
}
