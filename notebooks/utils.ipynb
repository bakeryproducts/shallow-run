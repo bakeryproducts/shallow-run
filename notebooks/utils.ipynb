{
 "cells": [
  {
   "cell_type": "markdown",
   "metadata": {},
   "source": [
    "# Import"
   ]
  },
  {
   "cell_type": "code",
   "execution_count": null,
   "metadata": {},
   "outputs": [],
   "source": [
    "import os\n",
    "import sys\n",
    "import json\n",
    "import functools\n",
    "import subprocess\n",
    "from pathlib import Path\n",
    "from collections import OrderedDict\n",
    "\n",
    "import dmenu"
   ]
  },
  {
   "cell_type": "markdown",
   "metadata": {},
   "source": [
    "\n",
    "# Code"
   ]
  },
  {
   "cell_type": "code",
   "execution_count": null,
   "metadata": {},
   "outputs": [],
   "source": [
    "def show(iters, defs=None, prompt='Choose: '):\n",
    "    try: \n",
    "        r = dmenu.show(iters, prompt=prompt)\n",
    "        if not r : sys.exit()\n",
    "        return r \n",
    "    except: raise Exception\n",
    "\n",
    "def load_hist(path):\n",
    "    data = []\n",
    "    try:\n",
    "        with open(str(path), 'r') as f:\n",
    "            data = json.load(f)\n",
    "    except FileNotFoundError: pass\n",
    "    return data\n",
    "\n",
    "def update_hist(path, hist, item):\n",
    "    st = json.dumps(item)#, indent=4)\n",
    "    hist_strs = [json.dumps(i) for i in hist]\n",
    "    if st not in hist_strs:\n",
    "        hist.append(item)\n",
    "        with open(str(path), 'w') as f:\n",
    "            json.dump(hist, f, indent=4)    \n",
    "\n",
    "def get_field(hist, key): \n",
    "    seq = [i[key] for i in hist]\n",
    "    return list(OrderedDict.fromkeys(seq))     \n",
    "\n",
    "def port_map():\n",
    "    HISTORY_FN = Path(os.environ['HOME']) / Path('.config/portmapper/hist.json')\n",
    "    if not HISTORY_FN.parent.exists(): os.makedirs(str(HISTORY_FN.parent.absolute()))\n",
    "    \n",
    "    hist = load_hist(HISTORY_FN)\n",
    "    \n",
    "    def_users = get_field(hist, 'user')\n",
    "    def_urls = get_field(hist, 'remote_host')\n",
    "    def_local_ports = get_field(hist, 'local_port')\n",
    "    def_host_ports = get_field(hist, 'host_port')\n",
    "    \n",
    "    user = show(def_users, prompt='Select USER: ')\n",
    "    remote_host = show(def_urls, prompt='Select HOST: ')\n",
    "    \n",
    "    host_port = show(def_host_ports, prompt='Select HOST port: ')\n",
    "    local_port = show(def_local_ports, prompt='Select LOCAL port: ')\n",
    "    item =  {'remote_host':remote_host, 'user':user, 'host_port':host_port, 'local_port':local_port}\n",
    "    \n",
    "    update_hist(HISTORY_FN, hist, item)\n",
    "    \n",
    "    process = subprocess.Popen(['ssh', '-N', '-L', f'{local_port}:127.0.0.1:{host_port}', f'{user}@{remote_host}', '&'],\n",
    "                               stdout=subprocess.PIPE,\n",
    "                               stderr=subprocess.PIPE)\n",
    "    stdout, stderr = process.communicate()\n",
    "    \n",
    "def multi_buf():\n",
    "    colors = [\n",
    "        '#282a2e',\n",
    "        '#de935f',\n",
    "        '#de935f',\n",
    "        '#282a2e', \n",
    "    ]\n",
    "    font_size = 14\n",
    "    \n",
    "    cmd = f'clipmenu -m 0 -fn monospace:size={font_size} -nb \"{colors[0]}\" -nf \"{colors[1]}\" -sb \"{colors[2]}\"  -sf \"{colors[3]}\"'\n",
    "    #paste_ext = '&& xdotool click --clearmodifiers 2'\n",
    "    subprocess.run(cmd, shell=True)\n",
    "   "
   ]
  },
  {
   "cell_type": "code",
   "execution_count": null,
   "metadata": {
    "lines_to_next_cell": 2
   },
   "outputs": [],
   "source": [
    "if __name__ == '__main__':\n",
    "    #multi_buf()\n",
    "    port_map()\n",
    "    pass"
   ]
  },
  {
   "cell_type": "code",
   "execution_count": null,
   "metadata": {},
   "outputs": [],
   "source": []
  },
  {
   "cell_type": "code",
   "execution_count": null,
   "metadata": {},
   "outputs": [],
   "source": []
  },
  {
   "cell_type": "code",
   "execution_count": null,
   "metadata": {},
   "outputs": [],
   "source": []
  },
  {
   "cell_type": "code",
   "execution_count": null,
   "metadata": {},
   "outputs": [],
   "source": []
  },
  {
   "cell_type": "code",
   "execution_count": null,
   "metadata": {},
   "outputs": [],
   "source": []
  },
  {
   "cell_type": "code",
   "execution_count": null,
   "metadata": {},
   "outputs": [],
   "source": []
  }
 ],
 "metadata": {
  "jupytext": {
   "formats": "notebooks//ipynb,shrun//py:percent"
  },
  "kernelspec": {
   "display_name": "Python 3",
   "language": "python",
   "name": "python3"
  },
  "language_info": {
   "codemirror_mode": {
    "name": "ipython",
    "version": 3
   },
   "file_extension": ".py",
   "mimetype": "text/x-python",
   "name": "python",
   "nbconvert_exporter": "python",
   "pygments_lexer": "ipython3",
   "version": "3.6.9"
  }
 },
 "nbformat": 4,
 "nbformat_minor": 4
}
