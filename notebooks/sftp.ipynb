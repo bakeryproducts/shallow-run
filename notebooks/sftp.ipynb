{
 "cells": [
  {
   "cell_type": "code",
   "execution_count": null,
   "metadata": {
    "tags": [
     "active-ipynb"
    ]
   },
   "outputs": [],
   "source": [
    "%load_ext autoreload\n",
    "%autoreload 2"
   ]
  },
  {
   "cell_type": "code",
   "execution_count": null,
   "metadata": {},
   "outputs": [],
   "source": [
    "import os\n",
    "from functools import partial\n",
    "\n",
    "from shrun import sync"
   ]
  },
  {
   "cell_type": "markdown",
   "metadata": {},
   "source": [
    "# Code"
   ]
  },
  {
   "cell_type": "code",
   "execution_count": null,
   "metadata": {},
   "outputs": [],
   "source": [
    "def init_sftp_args():\n",
    "    sftp_args = {\n",
    "        'password': os.environ['SFTPPASS'],\n",
    "        'username': os.environ['SFTPUSER'],\n",
    "    }\n",
    "    return sftp_args\n",
    "\n",
    "def sftp(password, username, src, dst, action):\n",
    "    import paramiko\n",
    "    if action == 'push': host, port, dst = dst.split(':', 2)\n",
    "    else: host, port, src = src.split(':', 2)\n",
    "    \n",
    "    transport = paramiko.Transport((host, int(port)))\n",
    "    transport.connect(username = username, password = password)\n",
    "    sftp = paramiko.SFTPClient.from_transport(transport)\n",
    "    \n",
    "    if action == 'pull': sftp.get(src, dst)\n",
    "    elif action == 'push': sftp.put(src, dst)\n",
    "    \n",
    "    sftp.close()\n",
    "    transport.close()\n",
    "\n",
    "pusher = partial(sftp, action='push')\n",
    "puller = partial(sftp, action='pull')\n",
    "\n",
    "Syncer = sync.SyncerBase(sender=pusher, reciever=puller, kwargs=init_sftp_args())"
   ]
  },
  {
   "cell_type": "code",
   "execution_count": null,
   "metadata": {},
   "outputs": [],
   "source": []
  },
  {
   "cell_type": "code",
   "execution_count": null,
   "metadata": {},
   "outputs": [],
   "source": []
  }
 ],
 "metadata": {
  "jupytext": {
   "formats": "notebooks//ipynb,shrun//py:percent"
  },
  "kernelspec": {
   "display_name": "Python 3",
   "language": "python",
   "name": "python3"
  },
  "language_info": {
   "codemirror_mode": {
    "name": "ipython",
    "version": 3
   },
   "file_extension": ".py",
   "mimetype": "text/x-python",
   "name": "python",
   "nbconvert_exporter": "python",
   "pygments_lexer": "ipython3",
   "version": "3.6.9"
  }
 },
 "nbformat": 4,
 "nbformat_minor": 4
}
